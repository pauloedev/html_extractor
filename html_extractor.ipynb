{
 "cells": [
  {
   "cell_type": "code",
   "execution_count": null,
   "id": "c9e7d139-38e4-413e-8e5e-4d0973a4d552",
   "metadata": {
    "scrolled": true
   },
   "outputs": [],
   "source": [
    "import requests #library\n",
    "\n",
    "url = (\"\") #Put an url from the site you wanna know the code\n",
    "html = requests.get(url).text\n",
    "html"
   ]
  },
  {
   "cell_type": "code",
   "execution_count": null,
   "id": "fc49d817-12ac-4e27-8f5a-d60e80c6e1ca",
   "metadata": {},
   "outputs": [],
   "source": [
    "from bs4 import BeautifulSoup\n",
    "\n",
    "soup = BeautifulSoup(html, \"html5lib\")\n",
    "soup"
   ]
  },
  {
   "cell_type": "code",
   "execution_count": null,
   "id": "74b2cdb1-7190-440d-9db3-d7095020e1cc",
   "metadata": {},
   "outputs": [],
   "source": []
  }
 ],
 "metadata": {
  "kernelspec": {
   "display_name": "Python 3 (ipykernel)",
   "language": "python",
   "name": "python3"
  },
  "language_info": {
   "codemirror_mode": {
    "name": "ipython",
    "version": 3
   },
   "file_extension": ".py",
   "mimetype": "text/x-python",
   "name": "python",
   "nbconvert_exporter": "python",
   "pygments_lexer": "ipython3",
   "version": "3.11.4"
  }
 },
 "nbformat": 4,
 "nbformat_minor": 5
}
